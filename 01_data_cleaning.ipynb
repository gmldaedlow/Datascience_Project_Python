{
 "cells": [
  {
   "cell_type": "code",
   "execution_count": null,
   "metadata": {},
   "outputs": [],
   "source": [
    "import pandas as pd"
   ]
  },
  {
   "cell_type": "code",
   "execution_count": null,
   "metadata": {},
   "outputs": [],
   "source": [
    "# setting options to more visible rows/columns\n",
    "pd.set_option('display.max_rows', 1000)\n",
    "pd.set_option(\"display.max_colwidth\", 100)"
   ]
  },
  {
   "cell_type": "code",
   "execution_count": null,
   "metadata": {},
   "outputs": [],
   "source": [
    "# import orders.csv\n",
    "url = \"https://drive.google.com/file/d/1Vu0q91qZw6lqhIqbjoXYvYAQTmVHh6uZ/view?usp=sharing\" \n",
    "path = \"https://drive.google.com/uc?export=download&id=\"+url.split(\"/\")[-2]\n",
    "orders = pd.read_csv(path)"
   ]
  },
  {
   "cell_type": "code",
   "execution_count": null,
   "metadata": {},
   "outputs": [],
   "source": [
    "# import orderlines.csv\n",
    "url = \"https://drive.google.com/file/d/1FYhN_2AzTBFuWcfHaRuKcuCE6CWXsWtG/view?usp=sharing\" \n",
    "path = \"https://drive.google.com/uc?export=download&id=\"+url.split(\"/\")[-2]\n",
    "orderlines = pd.read_csv(path)"
   ]
  },
  {
   "cell_type": "code",
   "execution_count": null,
   "metadata": {},
   "outputs": [],
   "source": [
    "# import products.csv\n",
    "url = \"https://drive.google.com/file/d/1afxwDXfl-7cQ_qLwyDitfcCx3u7WMvkU/view?usp=sharing\" \n",
    "path = \"https://drive.google.com/uc?export=download&id=\"+url.split(\"/\")[-2]\n",
    "products = pd.read_csv(path)"
   ]
  },
  {
   "cell_type": "code",
   "execution_count": null,
   "metadata": {},
   "outputs": [],
   "source": [
    "#------------ ORDERS --------------------\n",
    "\n",
    "\n",
    "# Duplicates \n",
    "orders.duplicated().sum()"
   ]
  },
  {
   "cell_type": "code",
   "execution_count": null,
   "metadata": {},
   "outputs": [],
   "source": [
    "# Missing values\n",
    "print(f\"5 missing values represents {((orders.total_paid.isna().sum() / orders.shape[0])*100).round(5)}% of the rows in our DataFrame\")"
   ]
  },
  {
   "cell_type": "code",
   "execution_count": null,
   "metadata": {},
   "outputs": [],
   "source": [
    "orders.total_paid.isna().value_counts(normalize=True)"
   ]
  },
  {
   "cell_type": "code",
   "execution_count": null,
   "metadata": {},
   "outputs": [],
   "source": [
    "orders.isna().any()"
   ]
  },
  {
   "cell_type": "code",
   "execution_count": null,
   "metadata": {},
   "outputs": [],
   "source": [
    "# we drop the missing values in orders total_paid\n",
    "orders = orders.loc[~orders.total_paid.isna(), :]"
   ]
  },
  {
   "cell_type": "code",
   "execution_count": null,
   "metadata": {},
   "outputs": [],
   "source": [
    "# check datatypes\n",
    "orders_cl = orders\n",
    "orders_cl.dtypes"
   ]
  },
  {
   "cell_type": "code",
   "execution_count": null,
   "metadata": {},
   "outputs": [],
   "source": [
    "# fixing datatypes of columns\n",
    "orders[\"created_date\"] = pd.to_datetime(orders[\"created_date\"])"
   ]
  },
  {
   "cell_type": "code",
   "execution_count": null,
   "metadata": {},
   "outputs": [],
   "source": [
    "orders[\"total_paid\"] = pd.to_numeric(orders[\"total_paid\"])"
   ]
  },
  {
   "cell_type": "code",
   "execution_count": null,
   "metadata": {},
   "outputs": [],
   "source": [
    "#------------ ORDERLINES --------------------\n",
    "\n",
    "\n",
    "# Duplicates \n",
    "orderlines.duplicated().sum()"
   ]
  },
  {
   "cell_type": "code",
   "execution_count": null,
   "metadata": {},
   "outputs": [],
   "source": [
    "# missing values orderlines\n",
    "orderlines.isna().sum()"
   ]
  },
  {
   "cell_type": "code",
   "execution_count": null,
   "metadata": {},
   "outputs": [],
   "source": [
    "# fix datatypes\n",
    "orderlines[\"date\"] = pd.to_datetime(orderlines[\"date\"])"
   ]
  },
  {
   "cell_type": "code",
   "execution_count": null,
   "metadata": {},
   "outputs": [],
   "source": [
    "# check percentage of corrupted data in unit_price\n",
    "two_dot_percentage = ((orderlines.unit_price.str.contains(\"\\d+\\.\\d+\\.\\d+\").value_counts()[1] / orderlines.shape[0])*100).round(2)\n",
    "print(f\"The 2 dot problem represents {two_dot_percentage}% of the rows in our DataFrame\")"
   ]
  },
  {
   "cell_type": "code",
   "execution_count": null,
   "metadata": {
    "scrolled": true
   },
   "outputs": [],
   "source": [
    "# investigate df\n",
    "orderlines.loc[orderlines.unit_price.str.contains(\"\\d+\\.\\d+\\.\\d+\"), :]"
   ]
  },
  {
   "cell_type": "code",
   "execution_count": null,
   "metadata": {},
   "outputs": [],
   "source": [
    "orderlines[orderlines.id_order.isin([527342, 299549, 452946, 527364])]"
   ]
  },
  {
   "cell_type": "code",
   "execution_count": null,
   "metadata": {},
   "outputs": [],
   "source": [
    "# corresponding row in orders, investigating several examples to find pattern\n",
    "orders.loc[orders.order_id.isin([527342, 299549, 452946, 527364]), :]"
   ]
  },
  {
   "cell_type": "code",
   "execution_count": null,
   "metadata": {},
   "outputs": [],
   "source": [
    "#we can just drop the first dot here\n",
    "orderlines.loc[orderlines[\"unit_price\"].str.contains(\"\\d+\\.\\d+\\.\\d+\"), \"unit_price\"].str.replace(\".\", \"\", 1)"
   ]
  },
  {
   "cell_type": "code",
   "execution_count": null,
   "metadata": {},
   "outputs": [],
   "source": [
    "# make a new clean df\n",
    "orderlines_cl = orderlines"
   ]
  },
  {
   "cell_type": "code",
   "execution_count": null,
   "metadata": {},
   "outputs": [],
   "source": [
    "# fix corrupted data\n",
    "orderlines_cl.loc[orderlines[\"unit_price\"].str.contains(\"\\d+\\.\\d+\\.\\d+\"), \"unit_price\"] = orderlines.loc[orderlines[\"unit_price\"].str.contains(\"\\d+\\.\\d+\\.\\d+\"), \"unit_price\"].str.replace(\".\", \"\", 1)"
   ]
  },
  {
   "cell_type": "code",
   "execution_count": null,
   "metadata": {},
   "outputs": [],
   "source": [
    "# now, to check if that worked, convert string (object) to float numeric\n",
    "orderlines_cl[\"unit_price\"] = pd.to_numeric(orderlines[\"unit_price\"])"
   ]
  },
  {
   "cell_type": "code",
   "execution_count": null,
   "metadata": {},
   "outputs": [],
   "source": [
    "# fix other datatypes\n",
    "orderlines_cl[\"date\"] = pd.to_datetime(orderlines_cl[\"date\"])"
   ]
  },
  {
   "cell_type": "code",
   "execution_count": null,
   "metadata": {},
   "outputs": [],
   "source": [
    "# check datatypes\n",
    "orderlines_cl.dtypes"
   ]
  },
  {
   "cell_type": "code",
   "execution_count": null,
   "metadata": {},
   "outputs": [],
   "source": [
    "#------------ PRODUCTS --------------------\n",
    "\n",
    "\n",
    "# Duplicates \n",
    "products.duplicated().value_counts(normalize=True)# theres a lot of duplicates, almost 50%"
   ]
  },
  {
   "cell_type": "code",
   "execution_count": null,
   "metadata": {},
   "outputs": [],
   "source": [
    "products_cl = products.drop_duplicates()"
   ]
  },
  {
   "cell_type": "code",
   "execution_count": null,
   "metadata": {},
   "outputs": [],
   "source": [
    "# missing values\n",
    "products_cl.isna().sum()"
   ]
  },
  {
   "cell_type": "code",
   "execution_count": null,
   "metadata": {},
   "outputs": [],
   "source": [
    "# how much corrupted data in price?\n",
    "products_cl[\"price\"].str.contains(\"\\d+\\.\\d+\\.\\d+\").value_counts(normalize=True)\n",
    "# 3.5% have two dots in price, we can drop that"
   ]
  },
  {
   "cell_type": "code",
   "execution_count": null,
   "metadata": {},
   "outputs": [],
   "source": [
    "# dropping corrupted rows\n",
    "products_cl = products_cl.loc[~products_cl[\"price\"].str.contains(\"\\d+\\.\\d+\\.\\d+\", na=False), :]"
   ]
  },
  {
   "cell_type": "code",
   "execution_count": null,
   "metadata": {},
   "outputs": [],
   "source": [
    "# drop missing data\n",
    "products_cl = products_cl.loc[~products_cl.price.isna(), :]\n",
    "products_cl = products_cl.loc[~products_cl.desc.isna(), :]\n",
    "products_cl = products_cl.loc[~products_cl.type.isna(), :]"
   ]
  },
  {
   "cell_type": "code",
   "execution_count": null,
   "metadata": {},
   "outputs": [],
   "source": [
    "# and then change it to numeric to also check if that worked\n",
    "#products_cl[\"price\"] = pd.to_numeric(products_cl[\"price\"])"
   ]
  },
  {
   "cell_type": "code",
   "execution_count": null,
   "metadata": {},
   "outputs": [],
   "source": [
    "# how much corrupted data in promo_price?\n",
    "products_cl[\"promo_price\"].str.contains(\"\\d+\\.\\d+\\.\\d+\").value_counts(normalize=True)\n",
    "# 43%, we cannot drop that, we have to fix it"
   ]
  },
  {
   "cell_type": "code",
   "execution_count": null,
   "metadata": {},
   "outputs": [],
   "source": [
    "# I have to write a code depending on position of first comma\n",
    "# get number of digits before point (if there is one)\n",
    "# cut promo price, insert digit\n",
    "#products_cl[\"price\"] = products_cl[\"price\"].astype(str)\n",
    "products_cl[\"decimals\"] = products_cl[\"price\"].str.split(\".\", expand=True)[0]\n",
    "products_cl[\"len\"] = products_cl[\"decimals\"].apply(len)\n",
    "products_cl.sample(10)"
   ]
  },
  {
   "cell_type": "code",
   "execution_count": null,
   "metadata": {},
   "outputs": [],
   "source": [
    "products_cl[\"fixed_promo\"] = products_cl[\"promo_price\"].str.replace(\".\", \"\")"
   ]
  },
  {
   "cell_type": "code",
   "execution_count": null,
   "metadata": {},
   "outputs": [],
   "source": [
    "# function to place the digit at the right spot in the string\n",
    "def decs(df):\n",
    "    df[\"a\"], df[\"b\"] = df[\"fixed_promo\"][:df[\"len\"]], df[\"fixed_promo\"][df[\"len\"]:]\n",
    "    df[\"new\"] = df[\"a\"] + \".\" + df[\"b\"]\n",
    "    return df[\"new\"]"
   ]
  },
  {
   "cell_type": "code",
   "execution_count": null,
   "metadata": {},
   "outputs": [],
   "source": [
    "# applying function on promo_price\n",
    "products_cl.loc[products_cl[\"promo_price\"].str.contains(\"\\d+\\.\\d+\\.\\d+\"), \"new\"] = products_cl.apply(decs, axis=1)"
   ]
  },
  {
   "cell_type": "code",
   "execution_count": null,
   "metadata": {},
   "outputs": [],
   "source": [
    "products_cl.sample(10)"
   ]
  },
  {
   "cell_type": "code",
   "execution_count": null,
   "metadata": {},
   "outputs": [],
   "source": [
    "# fixing the column\n",
    "products_cl[\"new\"] = products_cl[\"new\"].astype(float)\n",
    "products_cl[\"new\"] = products_cl[\"new\"].round(2)"
   ]
  },
  {
   "cell_type": "code",
   "execution_count": null,
   "metadata": {},
   "outputs": [],
   "source": [
    "# eventually change dtype of price\n",
    "products_cl[\"price\"] = products_cl[\"price\"].astype(float)"
   ]
  },
  {
   "cell_type": "code",
   "execution_count": null,
   "metadata": {},
   "outputs": [],
   "source": [
    "#products_cl[products_cl[\"promo_price\"]>products_cl[\"price\"]]"
   ]
  },
  {
   "cell_type": "code",
   "execution_count": null,
   "metadata": {},
   "outputs": [],
   "source": [
    "# replace promo price where promo price has two dots with new (not when new NaN)\n",
    "products_cl.loc[products_cl[\"promo_price\"].str.contains(\"\\d+\\.\\d+\\.\\d+\"), \"promo_price\"] = products_cl.loc[products_cl[\"new\"].notna(), \"new\"]"
   ]
  },
  {
   "cell_type": "code",
   "execution_count": null,
   "metadata": {},
   "outputs": [],
   "source": [
    "products_cl.info()"
   ]
  },
  {
   "cell_type": "code",
   "execution_count": null,
   "metadata": {},
   "outputs": [],
   "source": [
    "products_cl[\"new\"] = products_cl[\"new\"].astype(float)"
   ]
  },
  {
   "cell_type": "code",
   "execution_count": null,
   "metadata": {},
   "outputs": [],
   "source": [
    "products_cl[\"promo_price\"] = products_cl[\"promo_price\"].astype(float).round(2)"
   ]
  },
  {
   "cell_type": "code",
   "execution_count": null,
   "metadata": {},
   "outputs": [],
   "source": [
    "# now check for wrong digits by sorting out differences that are unreasonable\n",
    "products_cl.loc[products_cl[\"promo_price\"] > 3* products_cl[\"price\"], \"new\"] = products_cl.apply(decs, axis=1)"
   ]
  },
  {
   "cell_type": "code",
   "execution_count": null,
   "metadata": {},
   "outputs": [],
   "source": [
    "products_cl.loc[products_cl[\"promo_price\"] > 3* products_cl[\"price\"], \"promo_price\"] = products_cl[\"new\"].div(10)"
   ]
  },
  {
   "cell_type": "code",
   "execution_count": null,
   "metadata": {},
   "outputs": [],
   "source": [
    "products_cl.loc[products_cl[\"promo_price\"] > 3* products_cl[\"price\"], :]"
   ]
  },
  {
   "cell_type": "code",
   "execution_count": null,
   "metadata": {},
   "outputs": [],
   "source": [
    "# change to numeric to also check if this worked\n",
    "products_cl[\"promo_price\"] = pd.to_numeric(products_cl[\"promo_price\"])"
   ]
  },
  {
   "cell_type": "code",
   "execution_count": null,
   "metadata": {},
   "outputs": [],
   "source": [
    "products_cl.dtypes"
   ]
  },
  {
   "cell_type": "code",
   "execution_count": null,
   "metadata": {},
   "outputs": [],
   "source": [
    "# check price - promo_price and check for meand/median/percentile and outliers, if numbers make sense\n",
    "products_cl[\"new_promo\"] = pd.to_numeric(products_cl[\"new\"]).round(2)\n",
    "products_cl[\"price\"] = pd.to_numeric(products_cl[\"price\"])\n",
    "products_cl[\"discount\"] = products_cl[\"price\"] - products_cl[\"promo_price\"]\n",
    "products_cl[\"discount\"].describe()"
   ]
  },
  {
   "cell_type": "code",
   "execution_count": null,
   "metadata": {},
   "outputs": [],
   "source": [
    "#products_cl.to_parquet(\"products_cl.parquet\")"
   ]
  },
  {
   "cell_type": "code",
   "execution_count": null,
   "metadata": {},
   "outputs": [],
   "source": [
    "#orders_cl.to_parquet(\"orders_cl.parquet\")"
   ]
  },
  {
   "cell_type": "code",
   "execution_count": null,
   "metadata": {},
   "outputs": [],
   "source": [
    "#orderlines_cl.to_parquet(\"orderlines_cl.parquet\")"
   ]
  },
  {
   "cell_type": "code",
   "execution_count": null,
   "metadata": {},
   "outputs": [],
   "source": []
  },
  {
   "cell_type": "code",
   "execution_count": null,
   "metadata": {},
   "outputs": [],
   "source": []
  },
  {
   "cell_type": "code",
   "execution_count": null,
   "metadata": {},
   "outputs": [],
   "source": []
  }
 ],
 "metadata": {
  "kernelspec": {
   "display_name": "Python 3 (ipykernel)",
   "language": "python",
   "name": "python3"
  },
  "language_info": {
   "codemirror_mode": {
    "name": "ipython",
    "version": 3
   },
   "file_extension": ".py",
   "mimetype": "text/x-python",
   "name": "python",
   "nbconvert_exporter": "python",
   "pygments_lexer": "ipython3",
   "version": "3.9.12"
  }
 },
 "nbformat": 4,
 "nbformat_minor": 2
}
